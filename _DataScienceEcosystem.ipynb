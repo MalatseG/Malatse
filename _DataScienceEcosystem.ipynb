{
 "cells": [
  {
   "cell_type": "markdown",
   "id": "3887441c-0f64-4fad-9366-846e6957ce23",
   "metadata": {},
   "source": [
    "<h1>Data Science Tools and Ecosystem</h1>"
   ]
  },
  {
   "cell_type": "markdown",
   "id": "dac272c0-af00-4744-9013-bb72fb8482e3",
   "metadata": {},
   "source": [
    "**Objectives:**\n",
    "* Python\n",
    "* R\n",
    "* SQL\n",
    "* Scala\n",
    "* Julia\n",
    "* Java\n",
    "* JavaScript\n",
    "* Panda\n",
    "* Scikit-learn\n",
    "* Jupyter Notebook\n",
    "* RStudio "
   ]
  },
  {
   "cell_type": "markdown",
   "id": "4bf712ce-4ded-4660-b65d-4cf322c2b3a7",
   "metadata": {},
   "source": [
    "In this notebook, Data Science Tools and Ecosystem are summarized "
   ]
  },
  {
   "cell_type": "markdown",
   "id": "0ac16427-c195-4039-b5b8-76f179ba58ac",
   "metadata": {},
   "source": [
    "Some of the popular languages that Data Scientists use are:\n",
    "ordered list\n",
    "1. Python\n",
    "2. R\n",
    "3. SQL\n",
    "4. Scala\n",
    "5. Java\n",
    "6. Julia\n",
    "7. JavaScript\n"
   ]
  },
  {
   "attachments": {},
   "cell_type": "markdown",
   "id": "3491f4bd-9e4a-441c-b8a5-488353263180",
   "metadata": {},
   "source": [
    "Some of the commonly used libraries used by Data Scientist include:\n",
    "ordered list \n",
    "1. Pandas \n",
    "2. NumPy\n",
    "3. Matplotlib\n",
    "4. Seaborn\n",
    "5. Keras\n",
    "6. PyTorch\n",
    "7. Scikit-learn"
   ]
  },
  {
   "cell_type": "markdown",
   "id": "aad5ae11-d529-4087-a1ed-f55320d2cf1e",
   "metadata": {},
   "source": [
    "| Data Science Tools|\n",
    "|-------------------|\n",
    "| Jupyter Notebooks |\n",
    "|-------------------|\n",
    "| RStudio           |\n",
    "|-------------------|\n",
    "| Spyder            |\n",
    "|-------------------|"
   ]
  },
  {
   "cell_type": "markdown",
   "id": "daddf301-01a0-4517-8fd2-981e324ef53b",
   "metadata": {},
   "source": [
    "### Below are a few examples of evaluating arithmetic expressions in Python"
   ]
  },
  {
   "cell_type": "code",
   "execution_count": 8,
   "id": "4da66966-2029-4433-854e-be8b27d8062b",
   "metadata": {
    "scrolled": true
   },
   "outputs": [
    {
     "data": {
      "text/plain": [
       "17"
      ]
     },
     "execution_count": 8,
     "metadata": {},
     "output_type": "execute_result"
    }
   ],
   "source": [
    "(3*4)+5 #This a simple arithmetic expression to multiply then add integers"
   ]
  },
  {
   "cell_type": "code",
   "execution_count": 10,
   "id": "ebbd05c9-a02b-45e7-bed4-de0e481c7366",
   "metadata": {},
   "outputs": [
    {
     "name": "stdout",
     "output_type": "stream",
     "text": [
      "3.3333333333333335\n"
     ]
    }
   ],
   "source": [
    "#This will convert 200 minutes to hours by diving by 60\n",
    "minutes = 200\n",
    "hours = minutes / 60\n",
    "print(hours)"
   ]
  },
  {
   "cell_type": "markdown",
   "id": "78e76bf9-c13b-405b-b42b-9b9026a5e49b",
   "metadata": {},
   "source": [
    "## Author\n",
    "Malatse Phillimon Matabane"
   ]
  },
  {
   "cell_type": "code",
   "execution_count": null,
   "id": "f2f6b86c-6759-4763-b5f4-48e72ccd0582",
   "metadata": {},
   "outputs": [],
   "source": []
  }
 ],
 "metadata": {
  "kernelspec": {
   "display_name": "anaconda-ai-2024.04-py310",
   "language": "python",
   "name": "conda-env-anaconda-ai-2024.04-py310-py"
  },
  "language_info": {
   "codemirror_mode": {
    "name": "ipython",
    "version": 3
   },
   "file_extension": ".py",
   "mimetype": "text/x-python",
   "name": "python",
   "nbconvert_exporter": "python",
   "pygments_lexer": "ipython3",
   "version": "3.10.13"
  }
 },
 "nbformat": 4,
 "nbformat_minor": 5
}
